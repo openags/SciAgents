{
 "cells": [
  {
   "cell_type": "code",
   "execution_count": 5,
   "id": "a6b997e8",
   "metadata": {},
   "outputs": [
    {
     "name": "stdout",
     "output_type": "stream",
     "text": [
      "Config path: c:\\Users\\ps\\Documents\\Academic\\Papers\\Agents\\Auto_research\\openags-agents\\config\\config.yml\n"
     ]
    }
   ],
   "source": [
    "import sys\n",
    "import os\n",
    "\n",
    "# 获取项目根目录（假设 test 目录和 config 目录同级）\n",
    "project_root = os.path.abspath(os.path.join(os.getcwd(), \"..\"))\n",
    "config_path = os.path.join(project_root, \"config\", \"config.yml\")\n",
    "print(\"Config path:\", config_path)\n",
    "\n",
    "\n",
    "import yaml\n",
    "from src.agents.chat_agent import ChatAgent\n",
    "from src.agents.message import AgentInput, Message, Role"
   ]
  },
  {
   "cell_type": "code",
   "execution_count": 6,
   "id": "8b2ecb69",
   "metadata": {},
   "outputs": [
    {
     "name": "stdout",
     "output_type": "stream",
     "text": [
      "ChatAgent config: {'model': 'deepseek/deepseek-chat', 'api_key': 'sk-2d377ffeddf240dea637617fbd688c27', 'url': 'https://api.deepseek.com', 'model_config_dict': {'temperature': 0.7}}\n"
     ]
    }
   ],
   "source": [
    "# 读取配置文件\n",
    "with open(config_path, \"r\", encoding=\"utf-8\") as f:\n",
    "    config = yaml.safe_load(f)\n",
    "\n",
    "chat_agent_config = config[\"agents\"][\"ChatAgent\"]\n",
    "\n",
    "print(\"ChatAgent config:\", chat_agent_config)\n",
    "\n",
    "\n",
    "# 构造 AgentInput\n",
    "messages = [\n",
    "    Message(role=Role.USER, content=\"你好，介绍一下你自己吧！\")\n",
    "]\n",
    "agent_input = AgentInput(messages=messages)\n",
    "\n",
    "# 创建 ChatAgent 实例\n",
    "agent = ChatAgent(\n",
    "    name=\"TestChatAgent\",\n",
    "    llm_config={\n",
    "        \"model\": chat_agent_config[\"model\"],\n",
    "        \"api_key\": chat_agent_config[\"api_key\"],\n",
    "        \"api_base\": chat_agent_config[\"url\"],\n",
    "        **chat_agent_config.get(\"model_config_dict\", {})\n",
    "    },\n",
    "    stream=True\n",
    ")\n",
    "\n"
   ]
  },
  {
   "cell_type": "code",
   "execution_count": 7,
   "id": "3aa75b8c",
   "metadata": {},
   "outputs": [
    {
     "name": "stdout",
     "output_type": "stream",
     "text": [
      "你好呀！我是 **DeepSeek Chat**，由深度求索（DeepSeek）公司打造的智能 AI 助手。我的最新版本是 **DeepSeek-V3**，知识截止到 **2024年7月**，可以帮助你解答各种问题，包括学习、工作、编程、生活百科等。  \n",
      "\n",
      "### ✨ **我的特点**：\n",
      "- **免费使用**：目前无需付费，随时为你提供帮助！  \n",
      "- **超长上下文支持**：可以处理 **128K** 长度的文本，适合阅读和分析长文档。  \n",
      "- **文件阅读能力**：支持上传 **PDF、Word、Excel、PPT、TXT** 等文件，并从中提取信息。  \n",
      "- **逻辑与创造力兼备**：无论是数学推理、写作润色，还是代码编写，我都能胜任！  \n",
      "- **联网搜索**（需手动开启）：可以获取最新信息，帮你解答时效性问题。  \n",
      "\n",
      "### 🚀 **我能帮你做什么？**  \n",
      "✅ **学习辅导**：解题思路、论文写作、语言翻译  \n",
      "✅ **工作助理**：写报告、做PPT、数据分析  \n",
      "✅ **编程帮手**：代码调试、算法讲解、项目建议  \n",
      "✅ **生活娱乐**：推荐书籍、电影、旅行攻略  \n",
      "\n",
      "如果你有任何问题，尽管问我吧！😊 你今天想了解什么呢？\n"
     ]
    }
   ],
   "source": [
    "# 调用step, stream=True\n",
    "output = agent.step(agent_input)\n",
    "if hasattr(output.content, \"__iter__\") and not isinstance(output.content, str):\n",
    "    # 是生成器，逐步打印\n",
    "    for chunk in output.content:\n",
    "        print(chunk, end=\"\", flush=True)\n",
    "    print()\n",
    "else:\n",
    "    # 是字符串，直接打印\n",
    "    print(output.content)"
   ]
  },
  {
   "cell_type": "code",
   "execution_count": 8,
   "id": "a2f96e4e",
   "metadata": {},
   "outputs": [
    {
     "name": "stdout",
     "output_type": "stream",
     "text": [
      "你好呀！我是 **DeepSeek Chat**，由深度求索（DeepSeek）公司打造的智能 AI 助手。我可以帮助你解答各种问题，包括学习、工作、编程、写作、生活百科等，还能阅读和解析上传的文件（如 PDF、Word、Excel 等），为你提供精准的信息支持。  \n",
      "\n",
      "### ✨ **我的特点**  \n",
      "✅ **免费使用**：目前无需付费，随时为你服务！  \n",
      "✅ **知识丰富**：我的知识截止到 **2024 年 7 月**，能提供较新的信息。  \n",
      "✅ **超长上下文**：支持 **128K** 上下文记忆，可以处理超长文本或复杂对话。  \n",
      "✅ **文件阅读**：能解析 **PDF、Word、Excel、PPT、TXT** 等文件内容，帮你快速提取关键信息。  \n",
      "✅ **多语言支持**：可以用 **中文、英文** 等多种语言交流。  \n",
      "\n",
      "### 🎯 **我能帮你做什么？**  \n",
      "📖 **学习辅导**：解题思路、论文润色、知识点解析  \n",
      "💼 **工作助手**：写邮件、做报告、数据分析  \n",
      "💡 **创意灵感**：写作、头脑风暴、策划方案  \n",
      "📊 **编程支持**：代码调试、算法讲解、技术文档解读  \n",
      "📂 **文件处理**：阅读、总结、提取关键信息  \n",
      "\n",
      "如果你有任何问题，尽管问我吧！😊\n"
     ]
    }
   ],
   "source": [
    "# 调用step, stream=True\n",
    "output = agent.run(agent_input)\n",
    "if hasattr(output.content, \"__iter__\") and not isinstance(output.content, str):\n",
    "    # 是生成器，逐步打印\n",
    "    for chunk in output.content:\n",
    "        print(chunk, end=\"\", flush=True)\n",
    "    print()\n",
    "else:\n",
    "    # 是字符串，直接打印\n",
    "    print(output.content)"
   ]
  },
  {
   "cell_type": "code",
   "execution_count": null,
   "id": "6e228afb",
   "metadata": {},
   "outputs": [],
   "source": []
  }
 ],
 "metadata": {
  "kernelspec": {
   "display_name": "camelra",
   "language": "python",
   "name": "python3"
  },
  "language_info": {
   "codemirror_mode": {
    "name": "ipython",
    "version": 3
   },
   "file_extension": ".py",
   "mimetype": "text/x-python",
   "name": "python",
   "nbconvert_exporter": "python",
   "pygments_lexer": "ipython3",
   "version": "3.12.0"
  }
 },
 "nbformat": 4,
 "nbformat_minor": 5
}
