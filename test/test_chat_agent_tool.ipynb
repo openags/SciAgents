{
 "cells": [
  {
   "cell_type": "code",
   "execution_count": 1,
   "id": "0db2eb9e",
   "metadata": {},
   "outputs": [],
   "source": [
    "import sys\n",
    "import os\n",
    "import yaml\n",
    "from sciagents.agents.chat_agent import ChatAgent\n",
    "from sciagents.agents.message import AgentInput, Message, Role\n",
    "from sciagents.tools import function_tool"
   ]
  },
  {
   "cell_type": "code",
   "execution_count": 2,
   "id": "23e6de49",
   "metadata": {},
   "outputs": [
    {
     "name": "stdout",
     "output_type": "stream",
     "text": [
      "Config path: c:\\Users\\ps\\Documents\\Academic\\Papers\\Agents\\Auto_research\\openags-agents\\config\\config.yml\n"
     ]
    }
   ],
   "source": [
    "# 获取项目根目录（假设 test 目录和 config 目录同级）\n",
    "project_root = os.path.abspath(os.path.join(os.getcwd(), \"..\"))\n",
    "config_path = os.path.join(project_root, \"config\", \"config.yml\")\n",
    "print(\"Config path:\", config_path)"
   ]
  },
  {
   "cell_type": "code",
   "execution_count": 3,
   "id": "94cd81d9",
   "metadata": {},
   "outputs": [],
   "source": [
    "@function_tool(name_override=\"fetch_weather\")\n",
    "async def fetch_weather(location: str) -> str:\n",
    "    return f\"Sunny in {location}\"\n",
    "\n",
    "def get_stock_price(symbol: str) -> float:\n",
    "    return 100.2"
   ]
  },
  {
   "cell_type": "code",
   "execution_count": null,
   "id": "8bc17ed2",
   "metadata": {},
   "outputs": [
    {
     "name": "stdout",
     "output_type": "stream",
     "text": [
      "ChatAgent config: {'model': 'deepseek/deepseek-chat', 'api_key': 'sk-2d377ffeddf240dea637617fbd688c27', 'url': 'https://api.deepseek.com', 'model_config_dict': {'temperature': 0.7}}\n"
     ]
    }
   ],
   "source": [
    "# 读取配置文件\n",
    "with open(config_path, \"r\", encoding=\"utf-8\") as f:\n",
    "    config = yaml.safe_load(f)\n",
    "\n",
    "chat_agent_config = config[\"agents\"][\"ChatAgent\"]\n",
    "\n",
    "print(\"ChatAgent config:\", chat_agent_config)\n",
    "\n",
    "\n",
    "# 构造 AgentInput\n",
    "messages = [\n",
    "    Message(role=Role.USER, content=\"你好，获取苹果股票价格，和上海的天气！\")\n",
    "]\n",
    "agent_input = AgentInput(messages=messages)\n",
    "\n",
    "# 创建 ChatAgent 实例\n",
    "agent = ChatAgent(\n",
    "    name=\"TestChatAgent\",\n",
    "    llm_config={\n",
    "        \"model\": chat_agent_config[\"model\"],\n",
    "        \"api_key\": chat_agent_config[\"api_key\"],\n",
    "        \"api_base\": chat_agent_config[\"url\"],\n",
    "        **chat_agent_config.get(\"model_config_dict\", {})\n",
    "    },\n",
    "    tools=[fetch_weather, get_stock_price],\n",
    "    stream=False # 是否使用流式输出\n",
    ")\n"
   ]
  },
  {
   "cell_type": "code",
   "execution_count": 5,
   "id": "601bd721",
   "metadata": {},
   "outputs": [
    {
     "name": "stderr",
     "output_type": "stream",
     "text": [
      "C:\\Users\\ps\\Documents\\Academic\\Papers\\Agents\\Auto_research\\openags-agents\\sciagents\\agents\\chat_agent.py:276: RuntimeWarning: coroutine 'wait_for' was never awaited\n",
      "  results.append({\n",
      "RuntimeWarning: Enable tracemalloc to get the object allocation traceback\n",
      "C:\\Users\\ps\\Documents\\Academic\\Papers\\Agents\\Auto_research\\openags-agents\\sciagents\\agents\\chat_agent.py:276: RuntimeWarning: coroutine 'FunctionTool.execute' was never awaited\n",
      "  results.append({\n",
      "RuntimeWarning: Enable tracemalloc to get the object allocation traceback\n"
     ]
    },
    {
     "name": "stdout",
     "output_type": "stream",
     "text": [
      "苹果（AAPL）当前的股票价格是100.2美元。  \n",
      "\n",
      "关于上海的天气，由于技术原因暂时无法获取，建议您稍后再试或通过天气应用查询最新信息。\n"
     ]
    }
   ],
   "source": [
    "# 调用step, stream=True\n",
    "output = agent.step(agent_input)\n",
    "if hasattr(output.content, \"__iter__\") and not isinstance(output.content, str):\n",
    "    # 是生成器，逐步打印\n",
    "    for chunk in output.content:\n",
    "        print(chunk, end=\"\", flush=True)\n",
    "    print()\n",
    "else:\n",
    "    # 是字符串，直接打印\n",
    "    print(output.content)"
   ]
  },
  {
   "cell_type": "code",
   "execution_count": 6,
   "id": "ac35fe55",
   "metadata": {},
   "outputs": [
    {
     "name": "stdout",
     "output_type": "stream",
     "text": [
      "苹果（AAPL）当前的股票价格是 **100.2 美元**。  \n",
      "\n",
      "上海的天气是 **晴天** ☀️。  \n",
      "\n",
      "如果需要更详细的天气信息（如温度、湿度等），可以告诉我哦！\n"
     ]
    }
   ],
   "source": [
    "# test a_step, stream=True, 异步方法\n",
    "async def test_step():\n",
    "    output = await agent.a_step(agent_input)\n",
    "    if hasattr(output.content, \"__aiter__\"):  # 检查是否为异步生成器\n",
    "        async for chunk in output.content:\n",
    "            print(chunk, end=\"\", flush=True)\n",
    "        print()\n",
    "    elif hasattr(output.content, \"__iter__\") and not isinstance(output.content, str):\n",
    "        for chunk in output.content:\n",
    "            print(chunk, end=\"\", flush=True)\n",
    "        print()\n",
    "    else:\n",
    "        print(output.content)\n",
    "\n",
    "await test_step()"
   ]
  },
  {
   "cell_type": "code",
   "execution_count": null,
   "id": "58c9e2c9",
   "metadata": {},
   "outputs": [],
   "source": []
  }
 ],
 "metadata": {
  "kernelspec": {
   "display_name": "camelra",
   "language": "python",
   "name": "python3"
  },
  "language_info": {
   "codemirror_mode": {
    "name": "ipython",
    "version": 3
   },
   "file_extension": ".py",
   "mimetype": "text/x-python",
   "name": "python",
   "nbconvert_exporter": "python",
   "pygments_lexer": "ipython3",
   "version": "3.12.0"
  }
 },
 "nbformat": 4,
 "nbformat_minor": 5
}
