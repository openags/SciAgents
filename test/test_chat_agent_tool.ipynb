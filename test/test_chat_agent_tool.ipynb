{
 "cells": [
  {
   "cell_type": "code",
   "execution_count": 16,
   "id": "0db2eb9e",
   "metadata": {},
   "outputs": [
    {
     "name": "stdout",
     "output_type": "stream",
     "text": [
      "Project root: c:\\Users\\ps\\Documents\\Academic\\Papers\\Agents\\Auto_research\\SciAgents\n",
      "Config path: c:\\Users\\ps\\Documents\\Academic\\Papers\\Agents\\Auto_research\\SciAgents\\config\\config.yml\n"
     ]
    }
   ],
   "source": [
    "import sys\n",
    "import os\n",
    "import yaml\n",
    "from pathlib import Path\n",
    "\n",
    "# Add project root to Python path\n",
    "notebook_dir = Path().absolute()  # Gets the current directory\n",
    "project_root = str(notebook_dir.parent)  # Go up one level to project root\n",
    "if project_root not in sys.path:\n",
    "    sys.path.insert(0, project_root)\n",
    "    \n",
    "# Get config path\n",
    "config_path = os.path.join(project_root, \"config\", \"config.yml\")\n",
    "print(\"Project root:\", project_root)\n",
    "print(\"Config path:\", config_path)\n",
    "\n",
    "from sciagents.agents.chat_agent import ChatAgent\n",
    "from sciagents.agents.message import AgentInput, Message, Role\n",
    "from sciagents.tools import function_tool"
   ]
  },
  {
   "cell_type": "code",
   "execution_count": null,
   "id": "23e6de49",
   "metadata": {},
   "outputs": [],
   "source": []
  },
  {
   "cell_type": "code",
   "execution_count": 17,
   "id": "94cd81d9",
   "metadata": {},
   "outputs": [],
   "source": [
    "@function_tool(name_override=\"fetch_weather\")\n",
    "async def fetch_weather(location: str) -> str:\n",
    "    return f\"Sunny in {location}\"\n",
    "\n",
    "def get_stock_price(symbol: str) -> float:\n",
    "    return 100.2"
   ]
  },
  {
   "cell_type": "code",
   "execution_count": 18,
   "id": "8bc17ed2",
   "metadata": {},
   "outputs": [
    {
     "name": "stdout",
     "output_type": "stream",
     "text": [
      "ChatAgent config: {'model': 'deepseek/deepseek-chat', 'api_key': 'sk-2d377ffeddf240dea637617fbd688c27', 'url': 'https://api.deepseek.com', 'model_config_dict': {'temperature': 0.7}}\n"
     ]
    }
   ],
   "source": [
    "# 读取配置文件\n",
    "with open(config_path, \"r\", encoding=\"utf-8\") as f:\n",
    "    config = yaml.safe_load(f)\n",
    "\n",
    "chat_agent_config = config[\"agents\"][\"ChatAgent\"]\n",
    "\n",
    "print(\"ChatAgent config:\", chat_agent_config)\n",
    "\n",
    "\n",
    "# 构造 AgentInput\n",
    "messages = [\n",
    "    Message(role=Role.USER, content=\"你好，获取苹果股票价格，和上海的天气！\")\n",
    "]\n",
    "agent_input = AgentInput(messages=messages)\n",
    "\n",
    "# 创建 ChatAgent 实例\n",
    "agent = ChatAgent(\n",
    "    name=\"TestChatAgent\",\n",
    "    llm_config={\n",
    "        \"model\": chat_agent_config[\"model\"],\n",
    "        \"api_key\": chat_agent_config[\"api_key\"],\n",
    "        \"api_base\": chat_agent_config[\"url\"],\n",
    "        **chat_agent_config.get(\"model_config_dict\", {})\n",
    "    },\n",
    "    tools=[fetch_weather, get_stock_price]\n",
    ")\n"
   ]
  },
  {
   "cell_type": "code",
   "execution_count": 21,
   "id": "601bd721",
   "metadata": {},
   "outputs": [
    {
     "name": "stdout",
     "output_type": "stream",
     "text": [
      "[Executing tools...]\n"
     ]
    },
    {
     "name": "stderr",
     "output_type": "stream",
     "text": [
      "c:\\Users\\ps\\Documents\\Academic\\Papers\\Agents\\Auto_research\\SciAgents\\sciagents\\agents\\chat_agent.py:275: RuntimeWarning: coroutine 'wait_for' was never awaited\n",
      "  results.append({\n",
      "RuntimeWarning: Enable tracemalloc to get the object allocation traceback\n",
      "c:\\Users\\ps\\Documents\\Academic\\Papers\\Agents\\Auto_research\\SciAgents\\sciagents\\agents\\chat_agent.py:275: RuntimeWarning: coroutine 'FunctionTool.execute' was never awaited\n",
      "  results.append({\n",
      "RuntimeWarning: Enable tracemalloc to get the object allocation traceback\n"
     ]
    },
    {
     "name": "stdout",
     "output_type": "stream",
     "text": [
      "目前苹果（AAPL）的股票价格为 **100.2 美元**。  \n",
      "\n",
      "上海的天气信息暂时无法直接获取，建议您通过以下方式查询实时天气：  \n",
      "- **中国天气网**：[www.weather.com.cn](http://www.weather.com.cn)  \n",
      "- **AccuWeather**：[www.accuweather.com](https://www.accuweather.com)  \n",
      "\n",
      "如果需要其他帮助，请随时告诉我！ 🌟\n"
     ]
    }
   ],
   "source": [
    "# 调用step, stream=True\n",
    "output = agent.step(agent_input, stream=True)\n",
    "if hasattr(output.content, \"__iter__\") and not isinstance(output.content, str):\n",
    "    # 是生成器，逐步打印\n",
    "    for chunk in output.content:\n",
    "        print(chunk, end=\"\", flush=True)\n",
    "    print()\n",
    "else:\n",
    "    # 是字符串，直接打印\n",
    "    print(output.content)"
   ]
  },
  {
   "cell_type": "code",
   "execution_count": 22,
   "id": "805c2351",
   "metadata": {},
   "outputs": [
    {
     "name": "stderr",
     "output_type": "stream",
     "text": [
      "c:\\Users\\ps\\Documents\\Academic\\Papers\\Agents\\Auto_research\\SciAgents\\sciagents\\agents\\chat_agent.py:275: RuntimeWarning: coroutine 'wait_for' was never awaited\n",
      "  results.append({\n",
      "RuntimeWarning: Enable tracemalloc to get the object allocation traceback\n",
      "c:\\Users\\ps\\Documents\\Academic\\Papers\\Agents\\Auto_research\\SciAgents\\sciagents\\agents\\chat_agent.py:275: RuntimeWarning: coroutine 'FunctionTool.execute' was never awaited\n",
      "  results.append({\n",
      "RuntimeWarning: Enable tracemalloc to get the object allocation traceback\n"
     ]
    },
    {
     "name": "stdout",
     "output_type": "stream",
     "text": [
      "目前苹果公司（AAPL）的股票价格为 **100.2 美元**。  \n",
      "\n",
      "关于上海的天气，由于技术限制我暂时无法直接获取。您可以通过以下方式查询最新天气情况：  \n",
      "1. **中国天气网**：[www.weather.com.cn](http://www.weather.com.cn)（官方权威）  \n",
      "2. **AccuWeather**：[上海天气](https://www.accuweather.com)（国际气象服务）  \n",
      "\n",
      "需要其他金融数据或生活信息吗？我很乐意继续协助！ 📈☀️\n"
     ]
    }
   ],
   "source": [
    "# 调用step, stream=True\n",
    "output = agent.step(agent_input, stream=False)\n",
    "if hasattr(output.content, \"__iter__\") and not isinstance(output.content, str):\n",
    "    # 是生成器，逐步打印\n",
    "    for chunk in output.content:\n",
    "        print(chunk, end=\"\", flush=True)\n",
    "    print()\n",
    "else:\n",
    "    # 是字符串，直接打印\n",
    "    print(output.content)"
   ]
  },
  {
   "cell_type": "code",
   "execution_count": 23,
   "id": "ac35fe55",
   "metadata": {},
   "outputs": [
    {
     "name": "stdout",
     "output_type": "stream",
     "text": [
      "[Executing tools...]\n",
      "### 最新信息更新：\n",
      "1. **苹果股票(AAPL)**：当前价格为 **100.2 美元**  \n",
      "2. **上海天气**：今日天气 **晴朗** ☀️  \n",
      "\n",
      "需要查询其他信息或更详细的天气数据（如温度/湿度）吗？随时告诉我！\n"
     ]
    }
   ],
   "source": [
    "# test a_step, stream=True, 异步方法\n",
    "async def test_step():\n",
    "    output = await agent.a_step(agent_input, stream=True)\n",
    "    if hasattr(output.content, \"__aiter__\"):  # 检查是否为异步生成器\n",
    "        async for chunk in output.content:\n",
    "            print(chunk, end=\"\", flush=True)\n",
    "        print()\n",
    "    elif hasattr(output.content, \"__iter__\") and not isinstance(output.content, str):\n",
    "        for chunk in output.content:\n",
    "            print(chunk, end=\"\", flush=True)\n",
    "        print()\n",
    "    else:\n",
    "        print(output.content)\n",
    "\n",
    "await test_step()"
   ]
  },
  {
   "cell_type": "code",
   "execution_count": 24,
   "id": "58c9e2c9",
   "metadata": {},
   "outputs": [
    {
     "name": "stdout",
     "output_type": "stream",
     "text": [
      "### 最新信息更新：\n",
      "1. **苹果股票(AAPL)**：当前价格为 **100.2 美元**  \n",
      "2. **上海天气**：今日天气 **晴朗** ☀️  \n",
      "\n",
      "如果需要更详细的天气信息（如温度、湿度等），或者查询其他股票数据，请随时告诉我！ 😊\n"
     ]
    }
   ],
   "source": [
    "# test a_step, stream=False, 异步方法\n",
    "async def test_step():\n",
    "    output = await agent.a_step(agent_input, stream=False)\n",
    "    if hasattr(output.content, \"__aiter__\"):  # 检查是否为异步生成器\n",
    "        async for chunk in output.content:\n",
    "            print(chunk, end=\"\", flush=True)\n",
    "        print()\n",
    "    elif hasattr(output.content, \"__iter__\") and not isinstance(output.content, str):\n",
    "        for chunk in output.content:\n",
    "            print(chunk, end=\"\", flush=True)\n",
    "        print()\n",
    "    else:\n",
    "        print(output.content)\n",
    "\n",
    "await test_step()"
   ]
  },
  {
   "cell_type": "code",
   "execution_count": null,
   "id": "36137efc",
   "metadata": {},
   "outputs": [],
   "source": []
  }
 ],
 "metadata": {
  "kernelspec": {
   "display_name": "camelra",
   "language": "python",
   "name": "python3"
  },
  "language_info": {
   "codemirror_mode": {
    "name": "ipython",
    "version": 3
   },
   "file_extension": ".py",
   "mimetype": "text/x-python",
   "name": "python",
   "nbconvert_exporter": "python",
   "pygments_lexer": "ipython3",
   "version": "3.12.0"
  }
 },
 "nbformat": 4,
 "nbformat_minor": 5
}
