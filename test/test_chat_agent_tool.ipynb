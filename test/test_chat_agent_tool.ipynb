{
 "cells": [
  {
   "cell_type": "code",
   "execution_count": null,
   "id": "0db2eb9e",
   "metadata": {},
   "outputs": [],
   "source": [
    "import sys\n",
    "import os\n",
    "import yaml\n",
    "from pathlib import Path\n",
    "\n",
    "# Add project root to Python path\n",
    "notebook_dir = Path().absolute()  # Gets the current directory\n",
    "project_root = str(notebook_dir.parent)  # Go up one level to project root\n",
    "if project_root not in sys.path:\n",
    "    sys.path.insert(0, project_root)\n",
    "    \n",
    "# Get config path\n",
    "config_path = os.path.join(project_root, \"config\", \"config.yml\")\n",
    "print(\"Project root:\", project_root)\n",
    "print(\"Config path:\", config_path)\n",
    "\n",
    "from sciagents.agents.chat_agent import ChatAgent\n",
    "from sciagents.agents.message import AgentInput, Message, Role\n",
    "from sciagents.tools import function_tool"
   ]
  },
  {
   "cell_type": "code",
   "execution_count": null,
   "id": "94cd81d9",
   "metadata": {},
   "outputs": [],
   "source": [
    "@function_tool(name_override=\"fetch_weather\")\n",
    "async def fetch_weather(location: str) -> str:\n",
    "    return f\"Sunny in {location}\"\n",
    "\n",
    "def get_stock_price(symbol: str) -> float:\n",
    "    return 100.2"
   ]
  },
  {
   "cell_type": "code",
   "execution_count": null,
   "id": "8bc17ed2",
   "metadata": {},
   "outputs": [],
   "source": [
    "# 读取配置文件\n",
    "with open(config_path, \"r\", encoding=\"utf-8\") as f:\n",
    "    config = yaml.safe_load(f)\n",
    "\n",
    "chat_agent_config = config[\"agents\"][\"ChatAgent\"]\n",
    "\n",
    "print(\"ChatAgent config:\", chat_agent_config)\n",
    "\n",
    "\n",
    "# 构造 AgentInput\n",
    "messages = [\n",
    "    Message(role=Role.USER, content=\"你好，获取苹果股票价格，和上海的天气！\")\n",
    "]\n",
    "agent_input = AgentInput(messages=messages)\n",
    "\n",
    "# 创建 ChatAgent 实例\n",
    "agent = ChatAgent(\n",
    "    name=\"TestChatAgent\",\n",
    "    llm_config={\n",
    "        \"model\": chat_agent_config[\"model\"],\n",
    "        \"api_key\": chat_agent_config[\"api_key\"],\n",
    "        \"api_base\": chat_agent_config[\"url\"],\n",
    "        **chat_agent_config.get(\"model_config_dict\", {})\n",
    "    },\n",
    "    tools=[fetch_weather, get_stock_price]\n",
    ")\n"
   ]
  },
  {
   "cell_type": "code",
   "execution_count": null,
   "id": "87a49c96",
   "metadata": {},
   "outputs": [],
   "source": [
    "# 调用step, stream=True\n",
    "output = agent.step(\"介绍一下你自己！再介绍一下LLM\", stream=True)\n",
    "if hasattr(output.content, \"__iter__\") and not isinstance(output.content, str):\n",
    "    # 是生成器，逐步打印\n",
    "    for chunk in output.content:\n",
    "        print(chunk, end=\"\", flush=True)\n",
    "    print()\n",
    "else:\n",
    "    # 是字符串，直接打印\n",
    "    print(output.content)"
   ]
  },
  {
   "cell_type": "code",
   "execution_count": null,
   "id": "bdff0d2a",
   "metadata": {},
   "outputs": [],
   "source": []
  },
  {
   "cell_type": "code",
   "execution_count": null,
   "id": "601bd721",
   "metadata": {},
   "outputs": [],
   "source": [
    "# 调用step, stream=True\n",
    "output = agent.step(agent_input, stream=True)\n",
    "if hasattr(output.content, \"__iter__\") and not isinstance(output.content, str):\n",
    "    # 是生成器，逐步打印\n",
    "    for chunk in output.content:\n",
    "        print(chunk, end=\"\", flush=True)\n",
    "    print()\n",
    "else:\n",
    "    # 是字符串，直接打印\n",
    "    print(output.content)"
   ]
  },
  {
   "cell_type": "code",
   "execution_count": null,
   "id": "805c2351",
   "metadata": {},
   "outputs": [],
   "source": [
    "# 调用step, stream=True\n",
    "output = agent.step(agent_input, stream=False)\n",
    "if hasattr(output.content, \"__iter__\") and not isinstance(output.content, str):\n",
    "    # 是生成器，逐步打印\n",
    "    for chunk in output.content:\n",
    "        print(chunk, end=\"\", flush=True)\n",
    "    print()\n",
    "else:\n",
    "    # 是字符串，直接打印\n",
    "    print(output.content)"
   ]
  },
  {
   "cell_type": "code",
   "execution_count": null,
   "id": "ac35fe55",
   "metadata": {},
   "outputs": [],
   "source": [
    "# test a_step, stream=True, 异步方法\n",
    "async def test_step():\n",
    "    output = await agent.a_step(agent_input, stream=True)\n",
    "    if hasattr(output.content, \"__aiter__\"):  # 检查是否为异步生成器\n",
    "        async for chunk in output.content:\n",
    "            print(chunk, end=\"\", flush=True)\n",
    "        print()\n",
    "    elif hasattr(output.content, \"__iter__\") and not isinstance(output.content, str):\n",
    "        for chunk in output.content:\n",
    "            print(chunk, end=\"\", flush=True)\n",
    "        print()\n",
    "    else:\n",
    "        print(output.content)\n",
    "\n",
    "await test_step()"
   ]
  },
  {
   "cell_type": "code",
   "execution_count": null,
   "id": "58c9e2c9",
   "metadata": {},
   "outputs": [],
   "source": [
    "# test a_step, stream=False, 异步方法\n",
    "async def test_step():\n",
    "    output = await agent.a_step(agent_input, stream=False)\n",
    "    if hasattr(output.content, \"__aiter__\"):  # 检查是否为异步生成器\n",
    "        async for chunk in output.content:\n",
    "            print(chunk, end=\"\", flush=True)\n",
    "        print()\n",
    "    elif hasattr(output.content, \"__iter__\") and not isinstance(output.content, str):\n",
    "        for chunk in output.content:\n",
    "            print(chunk, end=\"\", flush=True)\n",
    "        print()\n",
    "    else:\n",
    "        print(output.content)\n",
    "\n",
    "await test_step()"
   ]
  },
  {
   "cell_type": "code",
   "execution_count": null,
   "id": "36137efc",
   "metadata": {},
   "outputs": [],
   "source": []
  }
 ],
 "metadata": {
  "kernelspec": {
   "display_name": "camelra",
   "language": "python",
   "name": "python3"
  },
  "language_info": {
   "codemirror_mode": {
    "name": "ipython",
    "version": 3
   },
   "file_extension": ".py",
   "mimetype": "text/x-python",
   "name": "python",
   "nbconvert_exporter": "python",
   "pygments_lexer": "ipython3",
   "version": "3.12.0"
  }
 },
 "nbformat": 4,
 "nbformat_minor": 5
}
