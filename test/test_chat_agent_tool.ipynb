{
 "cells": [
  {
   "cell_type": "code",
   "execution_count": 1,
   "id": "0db2eb9e",
   "metadata": {},
   "outputs": [
    {
     "name": "stdout",
     "output_type": "stream",
     "text": [
      "Project root: c:\\Users\\ps\\Documents\\Academic\\Papers\\Agents\\Auto_research\\SciAgents\n",
      "Config path: c:\\Users\\ps\\Documents\\Academic\\Papers\\Agents\\Auto_research\\SciAgents\\config\\config.yml\n"
     ]
    }
   ],
   "source": [
    "import sys\n",
    "import os\n",
    "import yaml\n",
    "from pathlib import Path\n",
    "\n",
    "# Add project root to Python path\n",
    "notebook_dir = Path().absolute()  # Gets the current directory\n",
    "project_root = str(notebook_dir.parent)  # Go up one level to project root\n",
    "if project_root not in sys.path:\n",
    "    sys.path.insert(0, project_root)\n",
    "    \n",
    "# Get config path\n",
    "config_path = os.path.join(project_root, \"config\", \"config.yml\")\n",
    "print(\"Project root:\", project_root)\n",
    "print(\"Config path:\", config_path)\n",
    "\n",
    "from sciagents.agents.chat_agent import ChatAgent\n",
    "from sciagents.agents.message import AgentInput, Message, Role\n",
    "from sciagents.tools.function_tool import FunctionTool, function_tool"
   ]
  },
  {
   "cell_type": "code",
   "execution_count": 2,
   "id": "94cd81d9",
   "metadata": {},
   "outputs": [],
   "source": [
    "@function_tool(name_override=\"fetch_weather\")\n",
    "async def fetch_weather(location: str) -> str:\n",
    "    return f\"Sunny in {location}\"\n",
    "\n",
    "def get_stock_price(symbol: str) -> float:\n",
    "    return 100.2"
   ]
  },
  {
   "cell_type": "code",
   "execution_count": 3,
   "id": "8bc17ed2",
   "metadata": {},
   "outputs": [
    {
     "name": "stdout",
     "output_type": "stream",
     "text": [
      "ChatAgent config: {'model': 'deepseek/deepseek-chat', 'api_key': 'sk-2d377ffeddf240dea637617fbd688c27', 'url': 'https://api.deepseek.com', 'model_config_dict': {'temperature': 0.7}}\n"
     ]
    }
   ],
   "source": [
    "# 读取配置文件\n",
    "with open(config_path, \"r\", encoding=\"utf-8\") as f:\n",
    "    config = yaml.safe_load(f)\n",
    "\n",
    "chat_agent_config = config[\"agents\"][\"ChatAgent\"]\n",
    "\n",
    "print(\"ChatAgent config:\", chat_agent_config)\n",
    "\n",
    "\n",
    "# 构造 AgentInput\n",
    "messages = [\n",
    "    Message(role=Role.USER, content=\"你好，获取苹果股票价格，和上海的天气！\")\n",
    "]\n",
    "agent_input = AgentInput(messages=messages)\n",
    "\n",
    "# 创建 ChatAgent 实例\n",
    "agent = ChatAgent(\n",
    "    name=\"TestChatAgent\",\n",
    "    llm_config={\n",
    "        \"model\": chat_agent_config[\"model\"],\n",
    "        \"api_key\": chat_agent_config[\"api_key\"],\n",
    "        \"api_base\": chat_agent_config[\"url\"],\n",
    "        **chat_agent_config.get(\"model_config_dict\", {})\n",
    "    },\n",
    "    tools=[fetch_weather, get_stock_price]\n",
    ")\n"
   ]
  },
  {
   "cell_type": "code",
   "execution_count": 4,
   "id": "87a49c96",
   "metadata": {},
   "outputs": [
    {
     "name": "stdout",
     "output_type": "stream",
     "text": [
      "你好！我是一个由人工智能驱动的助手，可以帮助你完成各种任务，比如回答问题、提供建议、查询信息（比如天气、股票价格等）、解决问题，甚至陪你聊天。我的核心是基于大型语言模型（LLM）构建的，能够理解和生成自然语言，从而与人类进行流畅的交互。\n",
      "\n",
      "### 关于我自己：\n",
      "- **功能**：我可以处理文本输入，提供信息、建议或执行任务（如查询天气、股票价格等）。\n",
      "- **学习能力**：虽然我不能像人类一样“学习”新知识，但我的知识库是基于训练时的数据，并且可以通过工具获取实时信息。\n",
      "- **限制**：我的回答依赖于训练数据和工具支持，可能会有局限性，比如无法处理超出知识范围的问题或提供完全个性化的建议。\n",
      "\n",
      "---\n",
      "\n",
      "### 关于大型语言模型（LLM）：\n",
      "大型语言模型（Large Language Model, LLM）是一种基于深度学习的人工智能模型，专门用于理解和生成自然语言。以下是它的关键特点：\n",
      "\n",
      "1. **工作原理**：\n",
      "   - LLM 通过大量的文本数据进行训练，学习语言的统计规律和语义关系。\n",
      "   - 它使用“自注意力机制”（如 Transformer 架构）来捕捉上下文信息，从而生成连贯的文本。\n",
      "\n",
      "2. **能力**：\n",
      "   - **文本生成**：可以写文章、诗歌、代码等。\n",
      "   - **问答**：回答各种知识性问题。\n",
      "   - **翻译**：支持多语言翻译。\n",
      "   - **任务执行**：通过工具或插件完成特定任务（如查询天气、股票等）。\n",
      "\n",
      "3. **局限性**：\n",
      "   - **知识截止**：训练数据通常有截止日期，无法获取之后的信息（除非通过工具补充）。\n",
      "   - **偏见与错误**：可能反映训练数据中的偏见或生成不准确的内容。\n",
      "   - **缺乏真实理解**：虽然能生成合理的回答，但并不真正“理解”语言。\n",
      "\n",
      "4. **应用场景**：\n",
      "   - 客服机器人、内容创作、编程辅助、教育工具等。\n",
      "\n",
      "如果你对某个具体方面感兴趣，可以进一步探讨！\n"
     ]
    }
   ],
   "source": [
    "# 调用step, stream=True\n",
    "output = agent.step(\"介绍一下你自己！再介绍一下LLM\", stream=True)\n",
    "if hasattr(output.content, \"__iter__\") and not isinstance(output.content, str):\n",
    "    # 是生成器，逐步打印\n",
    "    for chunk in output.content:\n",
    "        print(chunk, end=\"\", flush=True)\n",
    "    print()\n",
    "else:\n",
    "    # 是字符串，直接打印\n",
    "    print(output.content)"
   ]
  },
  {
   "cell_type": "code",
   "execution_count": null,
   "id": "bdff0d2a",
   "metadata": {},
   "outputs": [],
   "source": []
  },
  {
   "cell_type": "code",
   "execution_count": 5,
   "id": "601bd721",
   "metadata": {},
   "outputs": [
    {
     "name": "stdout",
     "output_type": "stream",
     "text": [
      "[Executing tools: get_stock_price, fetch_weather]\n"
     ]
    },
    {
     "name": "stderr",
     "output_type": "stream",
     "text": [
      "c:\\Users\\ps\\Documents\\Academic\\Papers\\Agents\\Auto_research\\SciAgents\\sciagents\\agents\\chat_agent.py:306: RuntimeWarning: coroutine 'wait_for' was never awaited\n",
      "  results.append(msg.to_dict())\n",
      "RuntimeWarning: Enable tracemalloc to get the object allocation traceback\n",
      "c:\\Users\\ps\\Documents\\Academic\\Papers\\Agents\\Auto_research\\SciAgents\\sciagents\\agents\\chat_agent.py:306: RuntimeWarning: coroutine 'FunctionTool.execute' was never awaited\n",
      "  results.append(msg.to_dict())\n",
      "RuntimeWarning: Enable tracemalloc to get the object allocation traceback\n"
     ]
    },
    {
     "name": "stdout",
     "output_type": "stream",
     "text": [
      "目前我无法直接获取实时数据，但可以为你提供查询方法：  \n",
      "\n",
      "1. **苹果股票（AAPL）**：  \n",
      "   - 最新股价可通过财经网站（如[Yahoo Finance](https://finance.yahoo.com/quote/AAPL)）或股票APP实时查看。  \n",
      "\n",
      "2. **上海天气**：  \n",
      "   - 推荐使用天气应用（如[中国天气网](http://www.weather.com.cn)）或搜索“上海实时天气”。  \n",
      "\n",
      "如果需要其他帮助（如分析历史数据或天气趋势），可以告诉我！ 🌤️📈\n"
     ]
    }
   ],
   "source": [
    "# 调用step, stream=True\n",
    "output = agent.step(agent_input, stream=True)\n",
    "if hasattr(output.content, \"__iter__\") and not isinstance(output.content, str):\n",
    "    # 是生成器，逐步打印\n",
    "    for chunk in output.content:\n",
    "        print(chunk, end=\"\", flush=True)\n",
    "    print()\n",
    "else:\n",
    "    # 是字符串，直接打印\n",
    "    print(output.content)"
   ]
  },
  {
   "cell_type": "code",
   "execution_count": 6,
   "id": "805c2351",
   "metadata": {},
   "outputs": [
    {
     "name": "stdout",
     "output_type": "stream",
     "text": [
      "目前我无法直接获取实时数据，但可以为你提供以下替代方案：\n",
      "\n",
      "### 苹果股票（AAPL）\n",
      "- **当前价格**：可通过 [Yahoo Finance](https://finance.yahoo.com/quote/AAPL) 或股票类APP（如雪球、同花顺）实时查询。\n",
      "- **近期表现**：如需分析历史走势或财报数据，我可提供参考信息（需明确需求）。\n",
      "\n",
      "### 上海天气\n",
      "- **实时查询**：推荐访问 [中国天气网](http://www.weather.com.cn) 或天气APP（如墨迹天气）。\n",
      "- **今日概况**：上海目前处于夏季，通常高温多雨，建议出门前确认实时预报。\n",
      "\n",
      "如需其他帮助（如解读数据或规划行程），请告诉我具体需求！ 🌦️📊\n"
     ]
    }
   ],
   "source": [
    "# 调用step, stream=False\n",
    "output = agent.step(agent_input, stream=False)\n",
    "if hasattr(output.content, \"__iter__\") and not isinstance(output.content, str):\n",
    "    # 是生成器，逐步打印\n",
    "    for chunk in output.content:\n",
    "        print(chunk, end=\"\", flush=True)\n",
    "    print()\n",
    "else:\n",
    "    # 是字符串，直接打印\n",
    "    print(output.content)"
   ]
  },
  {
   "cell_type": "code",
   "execution_count": 7,
   "id": "ac35fe55",
   "metadata": {},
   "outputs": [
    {
     "name": "stdout",
     "output_type": "stream",
     "text": [
      "[Executing tools: get_stock_price, fetch_weather]\n",
      "### 实时信息更新：\n",
      "1. **苹果股票（AAPL）**  \n",
      "   - **当前价格**：$100.2（数据仅供参考，实际价格可能波动，建议通过 [Yahoo Finance](https://finance.yahoo.com) 确认）  \n",
      "\n",
      "2. **上海天气**  \n",
      "   - **今日天气**：晴 ☀️  \n",
      "\n",
      "如需更详细的分析（如股票历史走势或天气预报趋势），可以告诉我具体需求！ 📈🌤️\n"
     ]
    }
   ],
   "source": [
    "# test a_step, stream=True, 异步方法\n",
    "async def test_step():\n",
    "    output = await agent.a_step(agent_input, stream=True)\n",
    "    if hasattr(output.content, \"__aiter__\"):  # 检查是否为异步生成器\n",
    "        async for chunk in output.content:\n",
    "            print(chunk, end=\"\", flush=True)\n",
    "        print()\n",
    "    elif hasattr(output.content, \"__iter__\") and not isinstance(output.content, str):\n",
    "        for chunk in output.content:\n",
    "            print(chunk, end=\"\", flush=True)\n",
    "        print()\n",
    "    else:\n",
    "        print(output.content)\n",
    "\n",
    "await test_step()"
   ]
  },
  {
   "cell_type": "code",
   "execution_count": 8,
   "id": "58c9e2c9",
   "metadata": {},
   "outputs": [
    {
     "name": "stdout",
     "output_type": "stream",
     "text": [
      "### 最新信息速递 📊🌞\n",
      "\n",
      "1. **苹果公司(AAPL)股价**\n",
      "   - 当前价格：**100.20美元**\n",
      "   - 数据更新时间：2023年11月15日 15:30(UTC)\n",
      "   - 📈 [查看实时走势](https://finance.yahoo.com/quote/AAPL)\n",
      "\n",
      "2. **上海天气**\n",
      "   - 当前天气：**晴朗**\n",
      "   - 建议着装：白天温暖(约22°C)，建议薄外套\n",
      "   - 🌡️ [查看详细预报](http://www.weather.com.cn/weather/101020100.shtml)\n",
      "\n",
      "*注：股市数据有15分钟延迟，天气信息仅供参考，出行前建议查看最新预报。需要其他金融或天气相关信息吗？*\n"
     ]
    }
   ],
   "source": [
    "# test a_step, stream=False, 异步方法\n",
    "async def test_step():\n",
    "    output = await agent.a_step(agent_input, stream=False)\n",
    "    if hasattr(output.content, \"__aiter__\"):  # 检查是否为异步生成器\n",
    "        async for chunk in output.content:\n",
    "            print(chunk, end=\"\", flush=True)\n",
    "        print()\n",
    "    elif hasattr(output.content, \"__iter__\") and not isinstance(output.content, str):\n",
    "        for chunk in output.content:\n",
    "            print(chunk, end=\"\", flush=True)\n",
    "        print()\n",
    "    else:\n",
    "        print(output.content)\n",
    "\n",
    "await test_step()"
   ]
  },
  {
   "cell_type": "code",
   "execution_count": null,
   "id": "36137efc",
   "metadata": {},
   "outputs": [],
   "source": []
  }
 ],
 "metadata": {
  "kernelspec": {
   "display_name": "camelra",
   "language": "python",
   "name": "python3"
  },
  "language_info": {
   "codemirror_mode": {
    "name": "ipython",
    "version": 3
   },
   "file_extension": ".py",
   "mimetype": "text/x-python",
   "name": "python",
   "nbconvert_exporter": "python",
   "pygments_lexer": "ipython3",
   "version": "3.12.0"
  }
 },
 "nbformat": 4,
 "nbformat_minor": 5
}
